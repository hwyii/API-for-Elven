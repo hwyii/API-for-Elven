{
 "cells": [
  {
   "cell_type": "markdown",
   "metadata": {},
   "source": [
    "### 数据1"
   ]
  },
  {
   "cell_type": "code",
   "execution_count": 62,
   "metadata": {},
   "outputs": [
    {
     "data": {
      "text/html": [
       "<div>\n",
       "<style scoped>\n",
       "    .dataframe tbody tr th:only-of-type {\n",
       "        vertical-align: middle;\n",
       "    }\n",
       "\n",
       "    .dataframe tbody tr th {\n",
       "        vertical-align: top;\n",
       "    }\n",
       "\n",
       "    .dataframe thead th {\n",
       "        text-align: right;\n",
       "    }\n",
       "</style>\n",
       "<table border=\"1\" class=\"dataframe\">\n",
       "  <thead>\n",
       "    <tr style=\"text-align: right;\">\n",
       "      <th></th>\n",
       "      <th>Date</th>\n",
       "      <th>Currency</th>\n",
       "      <th>Account Number</th>\n",
       "      <th>CR Amount</th>\n",
       "      <th>DB Amount</th>\n",
       "      <th>Ref Num</th>\n",
       "    </tr>\n",
       "  </thead>\n",
       "  <tbody>\n",
       "    <tr>\n",
       "      <th>count</th>\n",
       "      <td>882</td>\n",
       "      <td>882</td>\n",
       "      <td>882</td>\n",
       "      <td>882</td>\n",
       "      <td>882</td>\n",
       "      <td>882</td>\n",
       "    </tr>\n",
       "    <tr>\n",
       "      <th>unique</th>\n",
       "      <td>80</td>\n",
       "      <td>2</td>\n",
       "      <td>1</td>\n",
       "      <td>150</td>\n",
       "      <td>473</td>\n",
       "      <td>882</td>\n",
       "    </tr>\n",
       "    <tr>\n",
       "      <th>top</th>\n",
       "      <td>2010/10/23</td>\n",
       "      <td>USD</td>\n",
       "      <td>abc123</td>\n",
       "      <td>$0.00</td>\n",
       "      <td>$0.00</td>\n",
       "      <td>def123</td>\n",
       "    </tr>\n",
       "    <tr>\n",
       "      <th>freq</th>\n",
       "      <td>22</td>\n",
       "      <td>878</td>\n",
       "      <td>882</td>\n",
       "      <td>681</td>\n",
       "      <td>201</td>\n",
       "      <td>1</td>\n",
       "    </tr>\n",
       "  </tbody>\n",
       "</table>\n",
       "</div>"
      ],
      "text/plain": [
       "              Date Currency Account Number CR Amount DB Amount Ref Num\n",
       "count          882      882            882       882       882     882\n",
       "unique          80        2              1       150       473     882\n",
       "top     2010/10/23      USD         abc123    $0.00     $0.00   def123\n",
       "freq            22      878            882       681       201       1"
      ]
     },
     "execution_count": 62,
     "metadata": {},
     "output_type": "execute_result"
    }
   ],
   "source": [
    "import numpy as np\n",
    "import pandas as pd\n",
    "\n",
    "df = pd.read_csv(\"bank.csv\")\n",
    "df.describe()"
   ]
  },
  {
   "cell_type": "markdown",
   "metadata": {},
   "source": [
    "- Currency"
   ]
  },
  {
   "cell_type": "code",
   "execution_count": 63,
   "metadata": {},
   "outputs": [
    {
     "name": "stdout",
     "output_type": "stream",
     "text": [
      "['USD' 'USDD']\n"
     ]
    }
   ],
   "source": [
    "print(df['Currency'].unique())\n",
    "# 查看可知货币种类中存在误写的USDD，需要将其转换为USD\n",
    "df['Currency'] = df['Currency'].replace('USDD', 'USD')\n",
    "df.rename(columns={'Currency': 'currency'}, inplace=True)"
   ]
  },
  {
   "cell_type": "markdown",
   "metadata": {},
   "source": [
    "-  Amount and Type"
   ]
  },
  {
   "cell_type": "code",
   "execution_count": 64,
   "metadata": {},
   "outputs": [],
   "source": [
    "df['CR Amount'] = df['CR Amount'].replace('[\\$,]', '', regex=True).astype(float)\n",
    "df['DB Amount'] = df['DB Amount'].replace('[\\$,]', '', regex=True).astype(float) # 转化为数值\n",
    "df['amount'] = df['DB Amount'] - df['CR Amount']\n",
    "df['type'] = 'TRANSFER_OUT'\n",
    "df.loc[df['amount'] < 0, 'type'] = 'TRANSFER_IN' # 标记为转入转出\n",
    "df['amount'] = df['amount'].abs()\n",
    "df['amount'] = df['amount'].map('${:,.2f}'.format) # 转换为$格式"
   ]
  },
  {
   "cell_type": "markdown",
   "metadata": {},
   "source": [
    "- Datetime"
   ]
  },
  {
   "cell_type": "code",
   "execution_count": 65,
   "metadata": {},
   "outputs": [],
   "source": [
    "# Date\n",
    "df['datetime'] = pd.to_datetime(df['Date']).dt.strftime('%Y-%m-%dT17:00:00Z')"
   ]
  },
  {
   "cell_type": "markdown",
   "metadata": {},
   "source": [
    "- Result"
   ]
  },
  {
   "cell_type": "code",
   "execution_count": 66,
   "metadata": {},
   "outputs": [
    {
     "data": {
      "text/html": [
       "<div>\n",
       "<style scoped>\n",
       "    .dataframe tbody tr th:only-of-type {\n",
       "        vertical-align: middle;\n",
       "    }\n",
       "\n",
       "    .dataframe tbody tr th {\n",
       "        vertical-align: top;\n",
       "    }\n",
       "\n",
       "    .dataframe thead th {\n",
       "        text-align: right;\n",
       "    }\n",
       "</style>\n",
       "<table border=\"1\" class=\"dataframe\">\n",
       "  <thead>\n",
       "    <tr style=\"text-align: right;\">\n",
       "      <th></th>\n",
       "      <th>datetime</th>\n",
       "      <th>currency</th>\n",
       "      <th>amount</th>\n",
       "      <th>type</th>\n",
       "    </tr>\n",
       "  </thead>\n",
       "  <tbody>\n",
       "    <tr>\n",
       "      <th>0</th>\n",
       "      <td>2008-11-23T17:00:00Z</td>\n",
       "      <td>USD</td>\n",
       "      <td>$1,000.00</td>\n",
       "      <td>TRANSFER_IN</td>\n",
       "    </tr>\n",
       "    <tr>\n",
       "      <th>1</th>\n",
       "      <td>2023-08-15T17:00:00Z</td>\n",
       "      <td>USD</td>\n",
       "      <td>$2,000.00</td>\n",
       "      <td>TRANSFER_IN</td>\n",
       "    </tr>\n",
       "    <tr>\n",
       "      <th>2</th>\n",
       "      <td>2023-08-15T17:00:00Z</td>\n",
       "      <td>USD</td>\n",
       "      <td>$10.00</td>\n",
       "      <td>TRANSFER_OUT</td>\n",
       "    </tr>\n",
       "    <tr>\n",
       "      <th>3</th>\n",
       "      <td>2023-08-15T17:00:00Z</td>\n",
       "      <td>USD</td>\n",
       "      <td>$500.00</td>\n",
       "      <td>TRANSFER_OUT</td>\n",
       "    </tr>\n",
       "    <tr>\n",
       "      <th>4</th>\n",
       "      <td>2023-08-16T17:00:00Z</td>\n",
       "      <td>USD</td>\n",
       "      <td>$100,000.00</td>\n",
       "      <td>TRANSFER_IN</td>\n",
       "    </tr>\n",
       "  </tbody>\n",
       "</table>\n",
       "</div>"
      ],
      "text/plain": [
       "               datetime currency       amount          type\n",
       "0  2008-11-23T17:00:00Z      USD    $1,000.00   TRANSFER_IN\n",
       "1  2023-08-15T17:00:00Z      USD    $2,000.00   TRANSFER_IN\n",
       "2  2023-08-15T17:00:00Z      USD       $10.00  TRANSFER_OUT\n",
       "3  2023-08-15T17:00:00Z      USD      $500.00  TRANSFER_OUT\n",
       "4  2023-08-16T17:00:00Z      USD  $100,000.00   TRANSFER_IN"
      ]
     },
     "execution_count": 66,
     "metadata": {},
     "output_type": "execute_result"
    }
   ],
   "source": [
    "result_df = df[['datetime', 'currency', 'amount', 'type']]\n",
    "result_df.head()"
   ]
  },
  {
   "cell_type": "markdown",
   "metadata": {},
   "source": [
    "### 数据2\n",
    "Remark：任务文档里的交易费用TRANSFER_FEE似乎应该单列一列，而不该归在type里，因此新加了一个字段TRANSFER_FEE."
   ]
  },
  {
   "cell_type": "code",
   "execution_count": 67,
   "metadata": {},
   "outputs": [],
   "source": [
    "import requests\n",
    "from datetime import datetime, timezone, timedelta\n",
    "\n",
    "def get_transaction_data(wallet_address, start_date, end_date, local_timezone):\n",
    "    \n",
    "    api_endpoint = \"https://www.bkcscan.com/api?module=account&action=txlist\"\n",
    "\n",
    "    # convert\n",
    "    start_timestamp = int(datetime.strptime(start_date, \"%Y-%m-%d\").timestamp())\n",
    "    end_timestamp = int(datetime.strptime(end_date, \"%Y-%m-%d\").timestamp())\n",
    "\n",
    "    # API parameters\n",
    "    params = {\n",
    "        \"address\": wallet_address,\n",
    "        \"starttimestamp\": start_timestamp,\n",
    "        \"endtimestamp\": end_timestamp\n",
    "    }\n",
    "\n",
    "    # Make API request\n",
    "    response = requests.get(api_endpoint, params=params)\n",
    "    data = response.json()\n",
    "\n",
    "    # transaction data\n",
    "    transactions = []\n",
    "    for transaction in data[\"result\"]:\n",
    "        tx_type = \"TRANSFER_IN\" if transaction[\"to\"].lower() == wallet_address.lower() else \"TRANSFER_OUT\"\n",
    "        tx_hash = transaction[\"hash\"]\n",
    "        timestamp = datetime.utcfromtimestamp(int(transaction[\"timeStamp\"])).replace(tzinfo=timezone.utc)\n",
    "        timestamp = timestamp.astimezone(timezone(timedelta(hours=local_timezone)))\n",
    "        datetime_str = timestamp.strftime('%Y-%m-%dT%H:%M:%SZ')\n",
    "        contact_identity = transaction[\"to\"] if tx_type == \"TRANSFER_OUT\" else transaction[\"from\"]\n",
    "        currency = \"KUB\" \n",
    "        amount = int(transaction[\"value\"]) / 1e18  # Convert wei to KUB\n",
    "        # 文档中并未直接给出交易费用，通过gasPrice和gasUsed计算\n",
    "        fee = round(int(transaction[\"gasPrice\"]) * int(transaction[\"gasUsed\"]) / 1e18, 8)\n",
    "\n",
    "        # Create transaction entry\n",
    "        transaction_entry = {\n",
    "            \"type\": tx_type,\n",
    "            \"txHash\": tx_hash,\n",
    "            \"datetime\": datetime_str,\n",
    "            \"contactIdentity\": contact_identity,\n",
    "            \"currency\": currency,\n",
    "            \"amount\": amount,\n",
    "            \"TRANSFER_FEE\": fee\n",
    "        }\n",
    "\n",
    "        transactions.append(transaction_entry)\n",
    "\n",
    "    df = pd.DataFrame(transactions)\n",
    "\n",
    "    return df\n",
    "\n",
    "# 测试钱包地址\n",
    "wallet_address = \"0x5Cf6c83A471ECd030A67C6C1AFdD530bCD08e32D\"\n",
    "start_date = \"2021-01-01\"\n",
    "end_date = \"2021-12-31\"\n",
    "local_timezone = 8\n",
    "\n",
    "result = get_transaction_data(wallet_address, start_date, end_date, local_timezone)"
   ]
  },
  {
   "cell_type": "code",
   "execution_count": 68,
   "metadata": {},
   "outputs": [
    {
     "data": {
      "text/html": [
       "<div>\n",
       "<style scoped>\n",
       "    .dataframe tbody tr th:only-of-type {\n",
       "        vertical-align: middle;\n",
       "    }\n",
       "\n",
       "    .dataframe tbody tr th {\n",
       "        vertical-align: top;\n",
       "    }\n",
       "\n",
       "    .dataframe thead th {\n",
       "        text-align: right;\n",
       "    }\n",
       "</style>\n",
       "<table border=\"1\" class=\"dataframe\">\n",
       "  <thead>\n",
       "    <tr style=\"text-align: right;\">\n",
       "      <th></th>\n",
       "      <th>type</th>\n",
       "      <th>txHash</th>\n",
       "      <th>datetime</th>\n",
       "      <th>contactIdentity</th>\n",
       "      <th>currency</th>\n",
       "      <th>amount</th>\n",
       "      <th>TRANSFER_FEE</th>\n",
       "    </tr>\n",
       "  </thead>\n",
       "  <tbody>\n",
       "    <tr>\n",
       "      <th>0</th>\n",
       "      <td>TRANSFER_OUT</td>\n",
       "      <td>0xc6fc26b51380b7d7cef961a434c2a6ea60cccf55df96...</td>\n",
       "      <td>2021-06-10T17:16:33Z</td>\n",
       "      <td>0x2527b10580f8cbc68452f16f33c6c3c3d45729f9</td>\n",
       "      <td>KUB</td>\n",
       "      <td>14.0</td>\n",
       "      <td>0.005406</td>\n",
       "    </tr>\n",
       "    <tr>\n",
       "      <th>1</th>\n",
       "      <td>TRANSFER_OUT</td>\n",
       "      <td>0xb684ebf4e94c7d9f3f6b46ef4d86406de9c48971df9e...</td>\n",
       "      <td>2021-06-10T16:45:06Z</td>\n",
       "      <td>0x085aef5be089ac245bce436a3620f289e3f57e5e</td>\n",
       "      <td>KUB</td>\n",
       "      <td>0.0</td>\n",
       "      <td>0.002225</td>\n",
       "    </tr>\n",
       "    <tr>\n",
       "      <th>2</th>\n",
       "      <td>TRANSFER_OUT</td>\n",
       "      <td>0x75e1031ab120ccaf639c069abfb533a7717785826b89...</td>\n",
       "      <td>2021-06-09T21:23:35Z</td>\n",
       "      <td>0x085aef5be089ac245bce436a3620f289e3f57e5e</td>\n",
       "      <td>KUB</td>\n",
       "      <td>0.0</td>\n",
       "      <td>0.002225</td>\n",
       "    </tr>\n",
       "    <tr>\n",
       "      <th>3</th>\n",
       "      <td>TRANSFER_OUT</td>\n",
       "      <td>0xa62a4cb86b0eb5ff50a901f881e0c6d896a07d3a7a44...</td>\n",
       "      <td>2021-06-09T21:23:19Z</td>\n",
       "      <td>0x8cae3f2079e4bb82122aafee7678e3bf86389486</td>\n",
       "      <td>KUB</td>\n",
       "      <td>6.0</td>\n",
       "      <td>0.007006</td>\n",
       "    </tr>\n",
       "    <tr>\n",
       "      <th>4</th>\n",
       "      <td>TRANSFER_OUT</td>\n",
       "      <td>0x75ecb0002652b8d67b21210a87b6578c595e1022db7c...</td>\n",
       "      <td>2021-06-09T20:27:05Z</td>\n",
       "      <td>0x2009a60434dc8c8f772c9969d64868bdc2bf17b2</td>\n",
       "      <td>KUB</td>\n",
       "      <td>0.0</td>\n",
       "      <td>0.002220</td>\n",
       "    </tr>\n",
       "  </tbody>\n",
       "</table>\n",
       "</div>"
      ],
      "text/plain": [
       "           type                                             txHash  \\\n",
       "0  TRANSFER_OUT  0xc6fc26b51380b7d7cef961a434c2a6ea60cccf55df96...   \n",
       "1  TRANSFER_OUT  0xb684ebf4e94c7d9f3f6b46ef4d86406de9c48971df9e...   \n",
       "2  TRANSFER_OUT  0x75e1031ab120ccaf639c069abfb533a7717785826b89...   \n",
       "3  TRANSFER_OUT  0xa62a4cb86b0eb5ff50a901f881e0c6d896a07d3a7a44...   \n",
       "4  TRANSFER_OUT  0x75ecb0002652b8d67b21210a87b6578c595e1022db7c...   \n",
       "\n",
       "               datetime                             contactIdentity currency  \\\n",
       "0  2021-06-10T17:16:33Z  0x2527b10580f8cbc68452f16f33c6c3c3d45729f9      KUB   \n",
       "1  2021-06-10T16:45:06Z  0x085aef5be089ac245bce436a3620f289e3f57e5e      KUB   \n",
       "2  2021-06-09T21:23:35Z  0x085aef5be089ac245bce436a3620f289e3f57e5e      KUB   \n",
       "3  2021-06-09T21:23:19Z  0x8cae3f2079e4bb82122aafee7678e3bf86389486      KUB   \n",
       "4  2021-06-09T20:27:05Z  0x2009a60434dc8c8f772c9969d64868bdc2bf17b2      KUB   \n",
       "\n",
       "   amount  TRANSFER_FEE  \n",
       "0    14.0      0.005406  \n",
       "1     0.0      0.002225  \n",
       "2     0.0      0.002225  \n",
       "3     6.0      0.007006  \n",
       "4     0.0      0.002220  "
      ]
     },
     "execution_count": 68,
     "metadata": {},
     "output_type": "execute_result"
    }
   ],
   "source": [
    "result.head()"
   ]
  },
  {
   "cell_type": "code",
   "execution_count": 24,
   "metadata": {},
   "outputs": [],
   "source": []
  }
 ],
 "metadata": {
  "kernelspec": {
   "display_name": "Python 3.10.5 64-bit",
   "language": "python",
   "name": "python3"
  },
  "language_info": {
   "codemirror_mode": {
    "name": "ipython",
    "version": 3
   },
   "file_extension": ".py",
   "mimetype": "text/x-python",
   "name": "python",
   "nbconvert_exporter": "python",
   "pygments_lexer": "ipython3",
   "version": "3.10.5"
  },
  "orig_nbformat": 4,
  "vscode": {
   "interpreter": {
    "hash": "fbc768028c3e6ead51d9a200ddcb2ec858ae62844dcd1994729a8279be9b48f2"
   }
  }
 },
 "nbformat": 4,
 "nbformat_minor": 2
}
